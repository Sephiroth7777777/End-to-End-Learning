{
 "cells": [
  {
   "cell_type": "code",
   "execution_count": 5,
   "metadata": {},
   "outputs": [],
   "source": [
    "import sys\n",
    "sys.path\n",
    "sys.path.remove('/opt/ros/kinetic/lib/python2.7/dist-packages')"
   ]
  },
  {
   "cell_type": "code",
   "execution_count": 6,
   "metadata": {},
   "outputs": [
    {
     "name": "stderr",
     "output_type": "stream",
     "text": [
      "Using TensorFlow backend.\n"
     ]
    }
   ],
   "source": [
    "import csv\n",
    "import cv2\n",
    "import os\n",
    "import re\n",
    "import pandas as pd\n",
    "import keras\n",
    "import numpy as np\n",
    "import featexp as fe\n",
    "import random\n",
    "import glob\n",
    "import tensorflow as tf\n",
    "import tensorflow_probability as tfd\n",
    "import matplotlib.pyplot as plt\n",
    "from keras.models import Sequential, Model\n",
    "from keras.layers import Flatten, Dense, Lambda, Input, Activation\n",
    "from keras.layers.merge import concatenate\n",
    "from keras.layers import Input, Dense, Conv2D, Flatten, MaxPool2D,merge\n",
    "from keras.layers.pooling import MaxPooling2D\n",
    "from keras.utils import plot_model\n",
    "from sklearn.metrics import r2_score, mean_squared_error\n",
    "from sklearn.preprocessing import MinMaxScaler\n",
    "from keras.callbacks import TensorBoard\n",
    "from scipy.stats import multivariate_normal\n",
    "from keras.models import Model\n",
    "from keras import backend as K\n",
    "from keras import losses\n",
    "from sklearn.mixture import GaussianMixture\n",
    "from tensorflow.keras import layers\n",
    "from keras.layers import Layer, interfaces, activations, initializers, regularizers, constraints\n",
    "from keras.engine.base_layer import InputSpec\n",
    "from keras.optimizers import Adam\n",
    "from PIL import Image\n"
   ]
  },
  {
   "cell_type": "markdown",
   "metadata": {},
   "source": [
    "### read matched log info"
   ]
  },
  {
   "cell_type": "code",
   "execution_count": 7,
   "metadata": {},
   "outputs": [
    {
     "name": "stdout",
     "output_type": "stream",
     "text": [
      "1967\n"
     ]
    },
    {
     "name": "stderr",
     "output_type": "stream",
     "text": [
      "/usr/local/lib/python3.5/dist-packages/ipykernel_launcher.py:7: RuntimeWarning: divide by zero encountered in double_scalars\n",
      "  import sys\n",
      "/usr/local/lib/python3.5/dist-packages/ipykernel_launcher.py:7: RuntimeWarning: invalid value encountered in double_scalars\n",
      "  import sys\n"
     ]
    },
    {
     "data": {
      "text/html": [
       "<div>\n",
       "<style scoped>\n",
       "    .dataframe tbody tr th:only-of-type {\n",
       "        vertical-align: middle;\n",
       "    }\n",
       "\n",
       "    .dataframe tbody tr th {\n",
       "        vertical-align: top;\n",
       "    }\n",
       "\n",
       "    .dataframe thead th {\n",
       "        text-align: right;\n",
       "    }\n",
       "</style>\n",
       "<table border=\"1\" class=\"dataframe\">\n",
       "  <thead>\n",
       "    <tr style=\"text-align: right;\">\n",
       "      <th></th>\n",
       "      <th>Unnamed: 0</th>\n",
       "      <th>frame_id_forward</th>\n",
       "      <th>time</th>\n",
       "      <th>frame_id_left</th>\n",
       "      <th>latitude</th>\n",
       "      <th>longitude</th>\n",
       "      <th>speed</th>\n",
       "      <th>heading</th>\n",
       "      <th>angular_velocity</th>\n",
       "      <th>curvature</th>\n",
       "    </tr>\n",
       "  </thead>\n",
       "  <tbody>\n",
       "    <tr>\n",
       "      <th>0</th>\n",
       "      <td>1853</td>\n",
       "      <td>15</td>\n",
       "      <td>1565158633</td>\n",
       "      <td>64</td>\n",
       "      <td>31.181093</td>\n",
       "      <td>121.600885</td>\n",
       "      <td>0.0</td>\n",
       "      <td>3.006155</td>\n",
       "      <td>0.0048</td>\n",
       "      <td>0.0</td>\n",
       "    </tr>\n",
       "    <tr>\n",
       "      <th>1</th>\n",
       "      <td>1854</td>\n",
       "      <td>25</td>\n",
       "      <td>1565158634</td>\n",
       "      <td>82</td>\n",
       "      <td>31.181093</td>\n",
       "      <td>121.600885</td>\n",
       "      <td>0.0</td>\n",
       "      <td>3.006155</td>\n",
       "      <td>0.0054</td>\n",
       "      <td>0.0</td>\n",
       "    </tr>\n",
       "    <tr>\n",
       "      <th>2</th>\n",
       "      <td>1855</td>\n",
       "      <td>36</td>\n",
       "      <td>1565158635</td>\n",
       "      <td>99</td>\n",
       "      <td>31.181093</td>\n",
       "      <td>121.600885</td>\n",
       "      <td>0.0</td>\n",
       "      <td>3.006155</td>\n",
       "      <td>0.0046</td>\n",
       "      <td>0.0</td>\n",
       "    </tr>\n",
       "    <tr>\n",
       "      <th>3</th>\n",
       "      <td>1856</td>\n",
       "      <td>45</td>\n",
       "      <td>1565158636</td>\n",
       "      <td>115</td>\n",
       "      <td>31.181093</td>\n",
       "      <td>121.600885</td>\n",
       "      <td>0.0</td>\n",
       "      <td>3.006155</td>\n",
       "      <td>0.0054</td>\n",
       "      <td>0.0</td>\n",
       "    </tr>\n",
       "    <tr>\n",
       "      <th>4</th>\n",
       "      <td>1857</td>\n",
       "      <td>55</td>\n",
       "      <td>1565158637</td>\n",
       "      <td>132</td>\n",
       "      <td>31.181093</td>\n",
       "      <td>121.600885</td>\n",
       "      <td>0.0</td>\n",
       "      <td>3.006155</td>\n",
       "      <td>0.0050</td>\n",
       "      <td>0.0</td>\n",
       "    </tr>\n",
       "  </tbody>\n",
       "</table>\n",
       "</div>"
      ],
      "text/plain": [
       "   Unnamed: 0  frame_id_forward        time  frame_id_left   latitude  \\\n",
       "0        1853                15  1565158633             64  31.181093   \n",
       "1        1854                25  1565158634             82  31.181093   \n",
       "2        1855                36  1565158635             99  31.181093   \n",
       "3        1856                45  1565158636            115  31.181093   \n",
       "4        1857                55  1565158637            132  31.181093   \n",
       "\n",
       "    longitude  speed   heading  angular_velocity  curvature  \n",
       "0  121.600885    0.0  3.006155            0.0048        0.0  \n",
       "1  121.600885    0.0  3.006155            0.0054        0.0  \n",
       "2  121.600885    0.0  3.006155            0.0046        0.0  \n",
       "3  121.600885    0.0  3.006155            0.0054        0.0  \n",
       "4  121.600885    0.0  3.006155            0.0050        0.0  "
      ]
     },
     "execution_count": 7,
     "metadata": {},
     "output_type": "execute_result"
    }
   ],
   "source": [
    "log = pd.read_csv('match_0807.csv')\n",
    "#our final target is curvature which is generated by speed divided by angular velocity\n",
    "log['curvature'] = 0\n",
    "curv = []\n",
    "for i in range(len(log)):\n",
    "    try:\n",
    "        curv.append(log['angular_velocity'].iloc[i] / log['speed'].iloc[i])\n",
    "    except ValueError:\n",
    "        curv.append(0)\n",
    "for i in range(len(log)):\n",
    "    if curv[i] > 1 or curv[i] < -1:\n",
    "        curv[i] = 0\n",
    "log['curvature'] = curv\n",
    "log = log.fillna(0)\n",
    "measurement = log['curvature']\n",
    "print(len(log))\n",
    "log.head()"
   ]
  },
  {
   "cell_type": "markdown",
   "metadata": {},
   "source": [
    "### data generator"
   ]
  },
  {
   "cell_type": "code",
   "execution_count": 8,
   "metadata": {},
   "outputs": [],
   "source": [
    "class DataGenerator(keras.utils.Sequence):\n",
    "#     generates data for Keras\n",
    "#     specify 5 inputs' folder and set batch size for each loading\n",
    "    def __init__(self, f_cam_folder, l_cam_folder, r_cam_folder, umap_folder, rmap_folder, \n",
    "                 labels = None, batch_size=8, shuffle=True):\n",
    "        self.batch_size = batch_size\n",
    "        self.f_cam_folder = f_cam_folder\n",
    "        self.l_cam_folder = l_cam_folder\n",
    "        self.r_cam_folder = r_cam_folder\n",
    "        self.umap_folder = umap_folder\n",
    "        self.rmap_folder = rmap_folder\n",
    "        self.labels = labels\n",
    "        self.shuffle = shuffle\n",
    "        self.df = log.values[330:]\n",
    "        self.on_epoch_end()\n",
    "\n",
    "    def __len__(self):\n",
    "#         Denotes the number of batches per epoch\n",
    "        return int(np.floor(len(self.df) / self.batch_size))\n",
    "\n",
    "    def __data_generation(self, idx):\n",
    "#         Generates data containing batch_size samples\n",
    "        # Generate data\n",
    "        f_img_name = os.path.join(self.f_cam_folder, 'frame_vc1_'+str(int(self.df[idx - 1][1]))+'.bmp')\n",
    "        l_img_name = os.path.join(self.l_cam_folder, 'frame_vc6_'+str(int(self.df[idx - 1][3]))+'.bmp')\n",
    "        r_img_name = os.path.join(self.r_cam_folder, 'frame_vc5_'+str(int(self.df[idx - 1][3]))+'.bmp')\n",
    "        umap_name = os.path.join(self.umap_folder, str(int(self.df[idx - 1][2]))+'.png')\n",
    "        rmap_name = os.path.join(self.rmap_folder, str(int(self.df[idx - 1][2]))+'.png')\n",
    "        labels = self.labels[idx]\n",
    "        name = [f_img_name, l_img_name, r_img_name, umap_name, rmap_name]\n",
    "        images = [0 for _ in range(5)]\n",
    "        region = (0,200,640,402)\n",
    "        \n",
    "        for i in range(5):\n",
    "            image = Image.open(name[i]).convert('RGB')\n",
    "            if i <= 2:\n",
    "                images[i] = image.crop(region).resize((200, 80))\n",
    "\n",
    "            else:\n",
    "                if i == 3:\n",
    "                    images[i] = Image.open(name[i]).convert('1').resize((50, 50))\n",
    "                if i == 4:\n",
    "                    images[i] = image.resize((50, 50))\n",
    "                \n",
    "\n",
    "        return [images[0], images[1],images[2],images[3],images[4]], labels\n",
    "\n",
    "\n",
    "    def __getitem__(self, index):\n",
    "#         Generate one batch of data\n",
    "\n",
    "        # Generate data\n",
    "        X = self.__data_generation(index)\n",
    "\n",
    "        return X\n",
    "\n",
    "    def on_epoch_end(self):\n",
    "#         Updates indexes after each epoch\n",
    "        self.indexes = np.arange(len(self.labels))\n",
    "        if self.shuffle == True:\n",
    "            np.random.shuffle(self.indexes)\n",
    "\n",
    "    "
   ]
  },
  {
   "cell_type": "code",
   "execution_count": 10,
   "metadata": {},
   "outputs": [],
   "source": [
    "path = \"/media/yang/361641d9-fb7d-4447-a97a-673ae511c6d4/user/data/0807/\"\n",
    "\n",
    "# Parameters\n",
    "params = {\n",
    "            'f_cam_folder': path + 'forward_compressed/', \n",
    "            'l_cam_folder': path + 'left_compressed/', \n",
    "            'r_cam_folder': path + 'right_compressed/', \n",
    "            'umap_folder': path + 'unrouted_map/', \n",
    "            'rmap_folder': path + 'routed_map/', \n",
    "            'labels':  measurement, \n",
    "            'batch_size': 4,\n",
    "            'shuffle': True\n",
    "            }\n",
    "\n",
    "\n",
    "# Generators\n",
    "training_generator = DataGenerator(**params)\n",
    "# validation_generator = DataGenerator(**params)\n"
   ]
  },
  {
   "cell_type": "code",
   "execution_count": 7,
   "metadata": {},
   "outputs": [],
   "source": [
    "tb = TensorBoard(log_dir='./logs',  # log 目录\n",
    "                 histogram_freq=1,  # 按照何等频率（epoch）来计算直方图，0为不计算\n",
    "                 batch_size=32,     # 用多大量的数据计算直方图\n",
    "                 write_graph=True,  # 是否存储网络结构图\n",
    "                 write_grads=True, # 是否可视化梯度直方图\n",
    "                 write_images=False,# 是否可视化参数\n",
    "                 embeddings_freq=0, \n",
    "                 embeddings_layer_names=None, \n",
    "                 embeddings_metadata=None)\n",
    "callbacks = [tb]\n"
   ]
  },
  {
   "cell_type": "code",
   "execution_count": 55,
   "metadata": {},
   "outputs": [],
   "source": [
    "def gmm_loss(y_true, y_pred):\n",
    "\"\"\"\n",
    "    total loss for model\n",
    "    args:\n",
    "        y_true: value of label\n",
    "        y_pred: related prediction\n",
    "    returns:\n",
    "        total loss which consists of cross-entrophy of N normal distributions,\n",
    "        normalization of weight and variance,\n",
    "        and MSE of curvature\n",
    "\"\"\"\n",
    "# c: regularization constant for variance term\n",
    "# c0: coeffecient for variance in normal distribution\n",
    "    c = 0.05\n",
    "    c0 = 0.1\n",
    "\n",
    "# use FC layers to simulate GMM\n",
    "\n",
    "#     y_true = y_true * tf.ones(y_pred.shape)\n",
    "#     phi, mu, sigma_new = y_pred[:,0:3], y_pred[:,3:6], y_pred[:,6:9]\n",
    "    phi, mu = y_pred[:,0:3], y_pred[:,3:6]\n",
    "\n",
    "    y = y_true * tf.ones(tf.shape(mu), dtype = tf.dtypes.float32)\n",
    "\n",
    "    sigma_new = tf.ones(tf.shape(mu), dtype=tf.dtypes.float32)\n",
    "    dist = tfd.distributions.Normal(loc = mu, scale = c0*sigma_new)\n",
    "\n",
    "    fs = tf.reduce_sum(tf.multiply(phi, exp(tf.log(dist.prob(y)))), 1) \n",
    "    return -K.sum(tf.multiply(y_true, tf.log(abs(fs)))) + tf.norm(phi, ord = 2) + losses.mean_squared_error(y_true, y_pred) + tf.norm(tf.log(abs(sigma_new)) - c, ord =2)\n",
    "\n"
   ]
  },
  {
   "cell_type": "code",
   "execution_count": 9,
   "metadata": {},
   "outputs": [],
   "source": [
    "\"\"\"\n",
    "    activation for variance output\n",
    "\"\"\"\n",
    "def exp(x):\n",
    "    return K.exp(x)"
   ]
  },
  {
   "cell_type": "code",
   "execution_count": null,
   "metadata": {},
   "outputs": [],
   "source": [
    "\"\"\"\n",
    "    normalization for camera images\n",
    "\"\"\"\n",
    "def normal(x):\n",
    "    return x/255"
   ]
  },
  {
   "cell_type": "code",
   "execution_count": 1,
   "metadata": {},
   "outputs": [
    {
     "ename": "NameError",
     "evalue": "name 'training_generator' is not defined",
     "output_type": "error",
     "traceback": [
      "\u001b[0;31m---------------------------------------------------------------------------\u001b[0m",
      "\u001b[0;31mNameError\u001b[0m                                 Traceback (most recent call last)",
      "\u001b[0;32m<ipython-input-1-b2a208ec2d76>\u001b[0m in \u001b[0;36m<module>\u001b[0;34m\u001b[0m\n\u001b[1;32m      1\u001b[0m \u001b[0;31m# image normalization\u001b[0m\u001b[0;34m\u001b[0m\u001b[0;34m\u001b[0m\u001b[0m\n\u001b[0;32m----> 2\u001b[0;31m \u001b[0mcamera_image\u001b[0m \u001b[0;34m=\u001b[0m \u001b[0mtraining_generator\u001b[0m\u001b[0;34m.\u001b[0m\u001b[0m__getitem__\u001b[0m\u001b[0;34m(\u001b[0m\u001b[0;36m1\u001b[0m\u001b[0;34m)\u001b[0m\u001b[0;34m[\u001b[0m\u001b[0;36m0\u001b[0m\u001b[0;34m]\u001b[0m\u001b[0;34m\u001b[0m\u001b[0m\n\u001b[0m\u001b[1;32m      3\u001b[0m \u001b[0mforward_images\u001b[0m \u001b[0;34m=\u001b[0m \u001b[0mcamera_image\u001b[0m\u001b[0;34m[\u001b[0m\u001b[0;36m0\u001b[0m\u001b[0;34m]\u001b[0m\u001b[0;34m\u001b[0m\u001b[0m\n\u001b[1;32m      4\u001b[0m \u001b[0mleft_images\u001b[0m \u001b[0;34m=\u001b[0m \u001b[0mcamera_image\u001b[0m\u001b[0;34m[\u001b[0m\u001b[0;36m1\u001b[0m\u001b[0;34m]\u001b[0m\u001b[0;34m\u001b[0m\u001b[0m\n\u001b[1;32m      5\u001b[0m \u001b[0mright_images\u001b[0m \u001b[0;34m=\u001b[0m \u001b[0mcamera_image\u001b[0m\u001b[0;34m[\u001b[0m\u001b[0;36m2\u001b[0m\u001b[0;34m]\u001b[0m\u001b[0;34m\u001b[0m\u001b[0m\n",
      "\u001b[0;31mNameError\u001b[0m: name 'training_generator' is not defined"
     ]
    }
   ],
   "source": [
    "# set input shape for all images \n",
    "camera_image = training_generator.__getitem__(1)[0]\n",
    "forward_images = camera_image[0]\n",
    "left_images = camera_image[1]\n",
    "right_images = camera_image[2]\n",
    "unrouted_map = camera_image[3]\n",
    "routed_map = camera_image[4]\n",
    "\n",
    "\n",
    "input_shape_forward = np.array(forward_images).shape\n",
    "input_shape_left = np.array(left_images).shape\n",
    "input_shape_right = np.array(right_images).shape\n",
    "input_shape_routed_map = np.array(routed_map).shape\n",
    "input_shape_unrouted_map = np.array(unrouted_map).shape"
   ]
  },
  {
   "cell_type": "code",
   "execution_count": 11,
   "metadata": {},
   "outputs": [],
   "source": [
    "\"\"\"\n",
    "    model for end-to-end pipline\n",
    "    args:\n",
    "        all 5 inputs from camera images and maps\n",
    "    returns:\n",
    "        model\n",
    "\"\"\"\n",
    "def model_e2e(input_forward, input_left, input_right, input_unrouted_map, input_routed_map):\n",
    "    input_forward = Input(shape=input_shape_forward)\n",
    "    input_left = Input(shape=input_shape_left)\n",
    "    input_right = Input(shape=input_shape_right)\n",
    "    input_unrouted_map = Input(shape=(50, 50, 1))\n",
    "    input_routed_map = Input(shape=input_shape_routed_map)\n",
    "    \n",
    "    model_forward = Conv2D(24, (5, 5), strides=(2,2), padding='same', activation='relu')(input_forward)\n",
    "    model_forward = Conv2D(36, (5, 5), strides=(2,2), padding='same', activation='relu')(model_forward)\n",
    "    model_forward = Conv2D(48, (3, 3), strides=(2,2), padding='same', activation='relu')(model_forward)\n",
    "    model_forward = Conv2D(64, (3, 3), strides=(1,1), padding='same', activation='relu')(model_forward)\n",
    "    model_forward = Flatten()(model_forward)\n",
    "\n",
    "    model_left = Conv2D(24, (5, 5), strides=(2,2), padding='same', activation='relu')(input_left)\n",
    "    model_left = Conv2D(36, (5, 5), strides=(2,2), padding='same', activation='relu')(model_left)\n",
    "    model_left = Conv2D(48, (3, 3), strides=(2,2), padding='same', activation='relu')(model_left)\n",
    "    model_left = Conv2D(64, (3, 3), strides=(1,1), padding='same', activation='relu')(model_left)\n",
    "    model_left = Flatten()(model_left)\n",
    "    \n",
    "    model_right = Conv2D(24, (5, 5), strides=(2,2), padding='same', activation='relu')(input_right)\n",
    "    model_right = Conv2D(36, (5, 5), strides=(2,2), padding='same', activation='relu')(model_right)\n",
    "    model_right = Conv2D(48, (3, 3), strides=(2,2), padding='same', activation='relu')(model_right)\n",
    "    model_right = Conv2D(64, (3, 3), strides=(1,1), padding='same', activation='relu')(model_right)\n",
    "    model_right = Flatten()(model_right)\n",
    "    \n",
    "    \n",
    "    model_unrouted_map = Conv2D(24, (5, 5), strides=(2,2), padding='same', activation='relu')(input_unrouted_map)\n",
    "    model_unrouted_map = Conv2D(36, (5, 5), strides=(2,2), padding='same', activation='relu')(model_unrouted_map)\n",
    "    model_unrouted_map = Conv2D(48, (3, 3), strides=(2,2), padding='same', activation='relu')(model_unrouted_map)\n",
    "    model_unrouted_map = Flatten()(model_unrouted_map)\n",
    "    \n",
    "    \n",
    "    output_img = concatenate([model_forward, model_left, model_right, model_unrouted_map], axis=1)\n",
    "#     output_img = model_unrouted_map\n",
    "\n",
    "    p1 = Dense(1000, activation='relu')(output_img)\n",
    "    p1 = Dense(100, activation='relu')(p1)\n",
    "    weight = Dense(3, activation='softmax')(p1)\n",
    "    mean = Dense(3, activation='linear')(p1)\n",
    "    var = Dense(3, activation=exp)(p1)\n",
    "    \n",
    "#     print(res)\n",
    "    model_routed_map = Conv2D(24, (5, 5), strides=(2,2), padding='same', activation='relu')(input_routed_map)\n",
    "    model_routed_map = Conv2D(36, (5, 5), strides=(2,2), padding='same', activation='relu')(model_routed_map)\n",
    "    model_routed_map = Flatten()(model_routed_map)\n",
    "    \n",
    "    output_comb = concatenate([p1, model_routed_map], axis=1)\n",
    "    p2 = Dense(100, activation='relu')(output_comb)\n",
    "    curv = Dense(1, activation='linear')(p2)\n",
    "#     res = concatenate([weight, mean, carv], axis = 1)\n",
    "    res = concatenate([weight, mean, var, curv], axis = 1)\n",
    "\n",
    "    model = Model(inputs = [input_forward, input_left,input_right, input_unrouted_map, input_routed_map], outputs = res)\n",
    "#     model.summary()\n",
    "    \n",
    "    return model\n"
   ]
  },
  {
   "cell_type": "code",
   "execution_count": 56,
   "metadata": {
    "scrolled": true
   },
   "outputs": [
    {
     "name": "stdout",
     "output_type": "stream",
     "text": [
      "Epoch 0\n",
      "[0. 0. 0. 0.]\n",
      "Train on 327 samples, validate on 82 samples\n",
      "Epoch 1/10\n",
      "327/327 [==============================] - 16s 48ms/step - loss: 11.0632 - val_loss: 5.2606\n",
      "Epoch 2/10\n",
      "327/327 [==============================] - 11s 34ms/step - loss: 8.7601 - val_loss: 4.7128\n",
      "Epoch 3/10\n",
      "327/327 [==============================] - 11s 33ms/step - loss: 5.6795 - val_loss: 3.8777\n",
      "Epoch 4/10\n",
      "327/327 [==============================] - 11s 33ms/step - loss: 0.1294 - val_loss: 1.7631\n",
      "Epoch 5/10\n",
      "327/327 [==============================] - 11s 32ms/step - loss: -10.3073 - val_loss: -2.2041\n",
      "Epoch 6/10\n",
      " 96/327 [=======>......................] - ETA: 7s - loss: -28.8248"
     ]
    },
    {
     "ename": "KeyboardInterrupt",
     "evalue": "",
     "output_type": "error",
     "traceback": [
      "\u001b[0;31m---------------------------------------------------------------------------\u001b[0m",
      "\u001b[0;31mKeyboardInterrupt\u001b[0m                         Traceback (most recent call last)",
      "\u001b[0;32m<ipython-input-56-d31c23889cf4>\u001b[0m in \u001b[0;36m<module>\u001b[0;34m\u001b[0m\n\u001b[1;32m     29\u001b[0m     \u001b[0mprint\u001b[0m\u001b[0;34m(\u001b[0m\u001b[0mY\u001b[0m\u001b[0;34m[\u001b[0m\u001b[0;36m0\u001b[0m\u001b[0;34m]\u001b[0m\u001b[0;34m[\u001b[0m\u001b[0;36m1\u001b[0m\u001b[0;34m:\u001b[0m\u001b[0;36m5\u001b[0m\u001b[0;34m]\u001b[0m\u001b[0;34m)\u001b[0m\u001b[0;34m\u001b[0m\u001b[0m\n\u001b[1;32m     30\u001b[0m     \u001b[0mmodel\u001b[0m\u001b[0;34m.\u001b[0m\u001b[0mcompile\u001b[0m\u001b[0;34m(\u001b[0m\u001b[0moptimizer\u001b[0m\u001b[0;34m=\u001b[0m\u001b[0madam\u001b[0m\u001b[0;34m,\u001b[0m \u001b[0mloss\u001b[0m\u001b[0;34m=\u001b[0m\u001b[0mgmm_loss\u001b[0m\u001b[0;34m)\u001b[0m\u001b[0;34m\u001b[0m\u001b[0m\n\u001b[0;32m---> 31\u001b[0;31m     \u001b[0mmodel\u001b[0m\u001b[0;34m.\u001b[0m\u001b[0mfit\u001b[0m\u001b[0;34m(\u001b[0m\u001b[0mx\u001b[0m\u001b[0;34m=\u001b[0m\u001b[0mX\u001b[0m\u001b[0;34m,\u001b[0m \u001b[0my\u001b[0m\u001b[0;34m=\u001b[0m\u001b[0mY\u001b[0m\u001b[0;34m,\u001b[0m \u001b[0mvalidation_split\u001b[0m\u001b[0;34m=\u001b[0m\u001b[0;36m0.2\u001b[0m\u001b[0;34m,\u001b[0m \u001b[0mshuffle\u001b[0m\u001b[0;34m=\u001b[0m\u001b[0;32mTrue\u001b[0m\u001b[0;34m,\u001b[0m \u001b[0mepochs\u001b[0m\u001b[0;34m=\u001b[0m\u001b[0;36m10\u001b[0m\u001b[0;34m)\u001b[0m\u001b[0;31m#, callbacks=callbacks)\u001b[0m\u001b[0;34m\u001b[0m\u001b[0m\n\u001b[0m\u001b[1;32m     32\u001b[0m \u001b[0;34m\u001b[0m\u001b[0m\n",
      "\u001b[0;32m~/venv/lib/python3.5/site-packages/keras/engine/training.py\u001b[0m in \u001b[0;36mfit\u001b[0;34m(self, x, y, batch_size, epochs, verbose, callbacks, validation_split, validation_data, shuffle, class_weight, sample_weight, initial_epoch, steps_per_epoch, validation_steps, **kwargs)\u001b[0m\n\u001b[1;32m   1037\u001b[0m                                         \u001b[0minitial_epoch\u001b[0m\u001b[0;34m=\u001b[0m\u001b[0minitial_epoch\u001b[0m\u001b[0;34m,\u001b[0m\u001b[0;34m\u001b[0m\u001b[0m\n\u001b[1;32m   1038\u001b[0m                                         \u001b[0msteps_per_epoch\u001b[0m\u001b[0;34m=\u001b[0m\u001b[0msteps_per_epoch\u001b[0m\u001b[0;34m,\u001b[0m\u001b[0;34m\u001b[0m\u001b[0m\n\u001b[0;32m-> 1039\u001b[0;31m                                         validation_steps=validation_steps)\n\u001b[0m\u001b[1;32m   1040\u001b[0m \u001b[0;34m\u001b[0m\u001b[0m\n\u001b[1;32m   1041\u001b[0m     def evaluate(self, x=None, y=None,\n",
      "\u001b[0;32m~/venv/lib/python3.5/site-packages/keras/engine/training_arrays.py\u001b[0m in \u001b[0;36mfit_loop\u001b[0;34m(model, f, ins, out_labels, batch_size, epochs, verbose, callbacks, val_f, val_ins, shuffle, callback_metrics, initial_epoch, steps_per_epoch, validation_steps)\u001b[0m\n\u001b[1;32m    197\u001b[0m                     \u001b[0mins_batch\u001b[0m\u001b[0;34m[\u001b[0m\u001b[0mi\u001b[0m\u001b[0;34m]\u001b[0m \u001b[0;34m=\u001b[0m \u001b[0mins_batch\u001b[0m\u001b[0;34m[\u001b[0m\u001b[0mi\u001b[0m\u001b[0;34m]\u001b[0m\u001b[0;34m.\u001b[0m\u001b[0mtoarray\u001b[0m\u001b[0;34m(\u001b[0m\u001b[0;34m)\u001b[0m\u001b[0;34m\u001b[0m\u001b[0m\n\u001b[1;32m    198\u001b[0m \u001b[0;34m\u001b[0m\u001b[0m\n\u001b[0;32m--> 199\u001b[0;31m                 \u001b[0mouts\u001b[0m \u001b[0;34m=\u001b[0m \u001b[0mf\u001b[0m\u001b[0;34m(\u001b[0m\u001b[0mins_batch\u001b[0m\u001b[0;34m)\u001b[0m\u001b[0;34m\u001b[0m\u001b[0m\n\u001b[0m\u001b[1;32m    200\u001b[0m                 \u001b[0mouts\u001b[0m \u001b[0;34m=\u001b[0m \u001b[0mto_list\u001b[0m\u001b[0;34m(\u001b[0m\u001b[0mouts\u001b[0m\u001b[0;34m)\u001b[0m\u001b[0;34m\u001b[0m\u001b[0m\n\u001b[1;32m    201\u001b[0m                 \u001b[0;32mfor\u001b[0m \u001b[0ml\u001b[0m\u001b[0;34m,\u001b[0m \u001b[0mo\u001b[0m \u001b[0;32min\u001b[0m \u001b[0mzip\u001b[0m\u001b[0;34m(\u001b[0m\u001b[0mout_labels\u001b[0m\u001b[0;34m,\u001b[0m \u001b[0mouts\u001b[0m\u001b[0;34m)\u001b[0m\u001b[0;34m:\u001b[0m\u001b[0;34m\u001b[0m\u001b[0m\n",
      "\u001b[0;32m~/venv/lib/python3.5/site-packages/keras/backend/tensorflow_backend.py\u001b[0m in \u001b[0;36m__call__\u001b[0;34m(self, inputs)\u001b[0m\n\u001b[1;32m   2713\u001b[0m                 \u001b[0;32mreturn\u001b[0m \u001b[0mself\u001b[0m\u001b[0;34m.\u001b[0m\u001b[0m_legacy_call\u001b[0m\u001b[0;34m(\u001b[0m\u001b[0minputs\u001b[0m\u001b[0;34m)\u001b[0m\u001b[0;34m\u001b[0m\u001b[0m\n\u001b[1;32m   2714\u001b[0m \u001b[0;34m\u001b[0m\u001b[0m\n\u001b[0;32m-> 2715\u001b[0;31m             \u001b[0;32mreturn\u001b[0m \u001b[0mself\u001b[0m\u001b[0;34m.\u001b[0m\u001b[0m_call\u001b[0m\u001b[0;34m(\u001b[0m\u001b[0minputs\u001b[0m\u001b[0;34m)\u001b[0m\u001b[0;34m\u001b[0m\u001b[0m\n\u001b[0m\u001b[1;32m   2716\u001b[0m         \u001b[0;32melse\u001b[0m\u001b[0;34m:\u001b[0m\u001b[0;34m\u001b[0m\u001b[0m\n\u001b[1;32m   2717\u001b[0m             \u001b[0;32mif\u001b[0m \u001b[0mpy_any\u001b[0m\u001b[0;34m(\u001b[0m\u001b[0mis_tensor\u001b[0m\u001b[0;34m(\u001b[0m\u001b[0mx\u001b[0m\u001b[0;34m)\u001b[0m \u001b[0;32mfor\u001b[0m \u001b[0mx\u001b[0m \u001b[0;32min\u001b[0m \u001b[0minputs\u001b[0m\u001b[0;34m)\u001b[0m\u001b[0;34m:\u001b[0m\u001b[0;34m\u001b[0m\u001b[0m\n",
      "\u001b[0;32m~/venv/lib/python3.5/site-packages/keras/backend/tensorflow_backend.py\u001b[0m in \u001b[0;36m_call\u001b[0;34m(self, inputs)\u001b[0m\n\u001b[1;32m   2673\u001b[0m             \u001b[0mfetched\u001b[0m \u001b[0;34m=\u001b[0m \u001b[0mself\u001b[0m\u001b[0;34m.\u001b[0m\u001b[0m_callable_fn\u001b[0m\u001b[0;34m(\u001b[0m\u001b[0;34m*\u001b[0m\u001b[0marray_vals\u001b[0m\u001b[0;34m,\u001b[0m \u001b[0mrun_metadata\u001b[0m\u001b[0;34m=\u001b[0m\u001b[0mself\u001b[0m\u001b[0;34m.\u001b[0m\u001b[0mrun_metadata\u001b[0m\u001b[0;34m)\u001b[0m\u001b[0;34m\u001b[0m\u001b[0m\n\u001b[1;32m   2674\u001b[0m         \u001b[0;32melse\u001b[0m\u001b[0;34m:\u001b[0m\u001b[0;34m\u001b[0m\u001b[0m\n\u001b[0;32m-> 2675\u001b[0;31m             \u001b[0mfetched\u001b[0m \u001b[0;34m=\u001b[0m \u001b[0mself\u001b[0m\u001b[0;34m.\u001b[0m\u001b[0m_callable_fn\u001b[0m\u001b[0;34m(\u001b[0m\u001b[0;34m*\u001b[0m\u001b[0marray_vals\u001b[0m\u001b[0;34m)\u001b[0m\u001b[0;34m\u001b[0m\u001b[0m\n\u001b[0m\u001b[1;32m   2676\u001b[0m         \u001b[0;32mreturn\u001b[0m \u001b[0mfetched\u001b[0m\u001b[0;34m[\u001b[0m\u001b[0;34m:\u001b[0m\u001b[0mlen\u001b[0m\u001b[0;34m(\u001b[0m\u001b[0mself\u001b[0m\u001b[0;34m.\u001b[0m\u001b[0moutputs\u001b[0m\u001b[0;34m)\u001b[0m\u001b[0;34m]\u001b[0m\u001b[0;34m\u001b[0m\u001b[0m\n\u001b[1;32m   2677\u001b[0m \u001b[0;34m\u001b[0m\u001b[0m\n",
      "\u001b[0;32m~/venv/lib/python3.5/site-packages/tensorflow/python/client/session.py\u001b[0m in \u001b[0;36m__call__\u001b[0;34m(self, *args, **kwargs)\u001b[0m\n\u001b[1;32m   1456\u001b[0m         ret = tf_session.TF_SessionRunCallable(self._session._session,\n\u001b[1;32m   1457\u001b[0m                                                \u001b[0mself\u001b[0m\u001b[0;34m.\u001b[0m\u001b[0m_handle\u001b[0m\u001b[0;34m,\u001b[0m \u001b[0margs\u001b[0m\u001b[0;34m,\u001b[0m\u001b[0;34m\u001b[0m\u001b[0m\n\u001b[0;32m-> 1458\u001b[0;31m                                                run_metadata_ptr)\n\u001b[0m\u001b[1;32m   1459\u001b[0m         \u001b[0;32mif\u001b[0m \u001b[0mrun_metadata\u001b[0m\u001b[0;34m:\u001b[0m\u001b[0;34m\u001b[0m\u001b[0m\n\u001b[1;32m   1460\u001b[0m           \u001b[0mproto_data\u001b[0m \u001b[0;34m=\u001b[0m \u001b[0mtf_session\u001b[0m\u001b[0;34m.\u001b[0m\u001b[0mTF_GetBuffer\u001b[0m\u001b[0;34m(\u001b[0m\u001b[0mrun_metadata_ptr\u001b[0m\u001b[0;34m)\u001b[0m\u001b[0;34m\u001b[0m\u001b[0m\n",
      "\u001b[0;31mKeyboardInterrupt\u001b[0m: "
     ]
    }
   ],
   "source": [
    "# training process\n",
    "epochs = 3\n",
    "for e in range(epochs):\n",
    "    print('Epoch', e)\n",
    "    batches = 0\n",
    "#     initial lists for holding data from datagenerator\n",
    "    fl = []\n",
    "    ll = []\n",
    "    rl = []\n",
    "    uml = []\n",
    "    rml = []\n",
    "    yl = []\n",
    "    for x_batch, y_batch in training_generator:\n",
    "        fl.append(np.array(x_batch[0]))\n",
    "        ll.append(np.array(x_batch[1]))\n",
    "        rl.append(np.array(x_batch[2]))\n",
    "        uml.append(np.array(x_batch[3]))\n",
    "        rml.append(np.array(x_batch[4]))\n",
    "        yl.append(y_batch)\n",
    "        batches += 1\n",
    "        if batches >= len(log / params['batch_size']):\n",
    "            break\n",
    "    \n",
    "    X = [normal(np.array(fl)), normal(np.array(ll)), normal(np.array(rl)), normal(np.array(uml)), normal(np.array(rml))]\n",
    "    X[3] = X[3].reshape(X[3].shape[0], 50, 50, 1)\n",
    "    Y = [np.array(yl)]#,np.array(yl),np.array(yl),np.array(yl)]\n",
    "    \n",
    "    model = model_e2e(X[0], X[1], X[2], X[3], X[4])\n",
    "    adam = Adam(lr=1e-6)\n",
    "    \n",
    "    print(Y[0][1:5])\n",
    "    model.compile(optimizer=adam, loss=gmm_loss)\n",
    "    model.fit(x=X, y=Y, validation_split=0.2, shuffle=True, epochs=10)#, callbacks=callbacks)\n",
    "        "
   ]
  },
  {
   "cell_type": "code",
   "execution_count": 57,
   "metadata": {
    "scrolled": true
   },
   "outputs": [],
   "source": [
    "res = model.predict(X)"
   ]
  },
  {
   "cell_type": "code",
   "execution_count": 58,
   "metadata": {},
   "outputs": [
    {
     "data": {
      "text/plain": [
       "[<matplotlib.lines.Line2D at 0x7fd0499e3b00>]"
      ]
     },
     "execution_count": 58,
     "metadata": {},
     "output_type": "execute_result"
    },
    {
     "data": {
      "image/png": "[encoded data removed]",
      "text/plain": [
       "<Figure size 1152x720 with 1 Axes>"
      ]
     },
     "metadata": {
      "needs_background": "light"
     },
     "output_type": "display_data"
    }
   ],
   "source": [
    "plt.figure(figsize=(16, 10))\n",
    "plt.plot(res[:,-1], 'r')\n",
    "plt.plot(Y[0], 'g')"
   ]
  },
  {
   "cell_type": "code",
   "execution_count": 59,
   "metadata": {},
   "outputs": [
    {
     "data": {
      "text/plain": [
       "0.012422951186310621"
      ]
     },
     "execution_count": 59,
     "metadata": {},
     "output_type": "execute_result"
    }
   ],
   "source": [
    "mean_squared_error(Y[0], res[:,-1])"
   ]
  },
  {
   "cell_type": "code",
   "execution_count": null,
   "metadata": {
    "scrolled": true
   },
   "outputs": [],
   "source": [
    "from keras.preprocessing.image import ImageDataGenerator\n",
    "train_datagen = ImageDataGenerator(\n",
    "        rescale=1./255,\n",
    "        shear_range=0.2,\n",
    "        zoom_range=0.2,\n",
    "        horizontal_flip=True)\n",
    "\n",
    "test_datagen = ImageDataGenerator(rescale=1./255)\n",
    "\n",
    "train_generator = train_datagen.flow_from_directory(\n",
    "        '/media/yang/361641d9-fb7d-4447-a97a-673ae511c6d4/user/data/0624/data/',\n",
    "        target_size=(80, 200),\n",
    "        batch_size=32,\n",
    "        )"
   ]
  },
  {
   "cell_type": "code",
   "execution_count": null,
   "metadata": {},
   "outputs": [],
   "source": [
    "a = train_generator.__getitem__(1)[0][4]\n",
    "k = cv2.merge([a[:,:,0],a[:,:,1],a[:,:,2]])\n",
    "plt.imshow(k)\n"
   ]
  }
 ],
 "metadata": {
  "kernelspec": {
   "display_name": "venv",
   "language": "python",
   "name": "venv"
  },
  "language_info": {
   "codemirror_mode": {
    "name": "ipython",
    "version": 3
   },
   "file_extension": ".py",
   "mimetype": "text/x-python",
   "name": "python",
   "nbconvert_exporter": "python",
   "pygments_lexer": "ipython3",
   "version": "3.5.2"
  }
 },
 "nbformat": 4,
 "nbformat_minor": 2
}
