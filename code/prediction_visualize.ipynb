{
 "cells": [
  {
   "cell_type": "code",
   "execution_count": 10,
   "metadata": {},
   "outputs": [],
   "source": [
    "import numpy as np\n",
    "import cv2\n",
    "import pandas as pd\n",
    "import random"
   ]
  },
  {
   "cell_type": "code",
   "execution_count": 11,
   "metadata": {},
   "outputs": [],
   "source": [
    "df_pred = pd.read_csv('./sorted_predictions_pred_2756-3552.csv')\n",
    "df = pd.read_csv('./old/match.csv')\n",
    "df = df.sort_values('time')\n",
    "f_ids = df['frame_id_forward'].values[2756:3552]\n",
    "carv = df_pred['prediction'].values\n",
    "num_y = len(carv)"
   ]
  },
  {
   "cell_type": "code",
   "execution_count": 11,
   "metadata": {},
   "outputs": [],
   "source": [
    "df = pd.read_csv('./match.csv')\n",
    "df = df.sort_values('time')\n",
    "f_ids = df['frame_id_forward'].values\n",
    "velocity = df['speed'].values\n",
    "omega = df['angular_velocity'].values\n",
    "carv = np.zeros(len(velocity))\n",
    "for i in range(len(velocity)):\n",
    "    carv[i] = omega[i]/velocity[i] if velocity[i] >= 0.27 else 0\n",
    "num_y = len(carv)"
   ]
  },
  {
   "cell_type": "code",
   "execution_count": 12,
   "metadata": {},
   "outputs": [],
   "source": [
    "def get2Bezier(P0, P1, P2, t):\n",
    "    a0 = (1-t)**2\n",
    "    a1 = 2 * (1-t) * t\n",
    "    a2 = t**2\n",
    "    x = a0*P0[0] + a1*P1[0] + a2*P2[0]\n",
    "    y = a0*P0[1] + a1*P1[1] + a2*P2[1]\n",
    "    return np.array([int(x), int(y)])\n",
    "\n",
    "def routed_result(Ids, carv, inpath, outpath):\n",
    "    '''\n",
    "    Input:\n",
    "        Ids: a dataframe or list of images' Ids in type of string or integer \n",
    "        carv: the carvinature list or array computed by speed and angle_speed in order\n",
    "        inpath: the file path for forward camera images\n",
    "        outpath: the file path to save the generated images\n",
    "    Output:\n",
    "        Save the predicted direction visualization on the forward camera image to outpath\n",
    "    '''\n",
    "    P0 = [320,402]\n",
    "    P1 = [320,241]\n",
    "    for r in range(len(Ids)):\n",
    "        k = carv[r]\n",
    "        f_id = Ids[r]\n",
    "        P2 = [320-k*2000,241]\n",
    "        path = inpath+\"frame_vc1_%d.bmp\"%(int(f_id))\n",
    "        img = cv2.imread(path)\n",
    "        pts = np.zeros((11,2))\n",
    "        for t in range(11):\n",
    "            pts[t,:] = get2Bezier(P0,P1,P2,t/10)\n",
    "        pts = pts.reshape((11,1,2))\n",
    "        pts = pts.astype(np.int32)\n",
    "        cv2.polylines(img,[pts],False,(0, 0, 255),5) \n",
    "        cv2.imwrite(outpath+\"frame_vc1_%d.bmp\"%(int(f_id)), img)\n",
    "        if r%100 == 0:\n",
    "            print('{r}/{num} images processed'.format(r=r, num=len(Ids)))"
   ]
  },
  {
   "cell_type": "code",
   "execution_count": 13,
   "metadata": {},
   "outputs": [
    {
     "name": "stdout",
     "output_type": "stream",
     "text": [
      "0/768 images processed\n",
      "100/768 images processed\n",
      "200/768 images processed\n",
      "300/768 images processed\n",
      "400/768 images processed\n",
      "500/768 images processed\n",
      "600/768 images processed\n",
      "700/768 images processed\n"
     ]
    }
   ],
   "source": [
    "for i in range(num_y):\n",
    "    k = carv[i]\n",
    "    f_id = f_ids[i]\n",
    "    P0 = [320,402]\n",
    "    P1 = [320,241]\n",
    "    P2 = [320-k*1300,241]\n",
    "    path = \"./old/forward_compressed/frame_vc1_%d.bmp\"%(int(f_id))\n",
    "    img = cv2.imread(path)\n",
    "    pts = np.zeros((11,2))\n",
    "    for t in range(11):\n",
    "        pts[t,:] = get2Bezier(P0,P1,P2,t/10)\n",
    "    # pts = np.array([[320,402],[320,241],[640,241]],np.int32)\n",
    "    pts = pts.reshape((11,1,2))\n",
    "    pts = pts.astype(np.int32)\n",
    "    cv2.polylines(img,[pts],False,(0, 0, 255),5) \n",
    "\n",
    "    #为了演示，建窗口显示出来\n",
    "#     cv2.namedWindow('image',cv2.WINDOW_NORMAL)\n",
    "#     cv2.resizeWindow('image',1000,1000)#定义frame的大小\n",
    "#     cv2.imshow('image',img)\n",
    "    if i%100 == 0:\n",
    "        print(f'{i}/{num_y} images processed')\n",
    "    cv2.imwrite(\"./old_test_result_pred/frame_vc1_%d.bmp\"%(int(f_id)), img)"
   ]
  },
  {
   "cell_type": "code",
   "execution_count": null,
   "metadata": {},
   "outputs": [],
   "source": []
  }
 ],
 "metadata": {
  "kernelspec": {
   "display_name": "Python 3",
   "language": "python",
   "name": "python3"
  },
  "language_info": {
   "codemirror_mode": {
    "name": "ipython",
    "version": 3
   },
   "file_extension": ".py",
   "mimetype": "text/x-python",
   "name": "python",
   "nbconvert_exporter": "python",
   "pygments_lexer": "ipython3",
   "version": "3.7.3"
  }
 },
 "nbformat": 4,
 "nbformat_minor": 2
}
